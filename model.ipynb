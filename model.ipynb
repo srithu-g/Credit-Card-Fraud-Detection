{
 "cells": [
  {
   "cell_type": "code",
   "execution_count": 17,
   "id": "4c525bc7-f4aa-4dd2-b8af-a26508cfd99e",
   "metadata": {},
   "outputs": [
    {
     "name": "stdout",
     "output_type": "stream",
     "text": [
      "   Unnamed: 0 trans_date_trans_time            cc_num  \\\n",
      "0           0   2020-06-21 12:14:25  2291163933867244   \n",
      "1           1   2020-06-21 12:14:33  3573030041201292   \n",
      "2           2   2020-06-21 12:14:53  3598215285024754   \n",
      "3           3   2020-06-21 12:15:15  3591919803438423   \n",
      "4           4   2020-06-21 12:15:17  3526826139003047   \n",
      "\n",
      "                               merchant        category    amt   first  \\\n",
      "0                 fraud_Kirlin and Sons   personal_care   2.86    Jeff   \n",
      "1                  fraud_Sporer-Keebler   personal_care  29.84  Joanne   \n",
      "2  fraud_Swaniawski, Nitzsche and Welch  health_fitness  41.28  Ashley   \n",
      "3                     fraud_Haley Group        misc_pos  60.05   Brian   \n",
      "4                 fraud_Johnston-Casper          travel   3.19  Nathan   \n",
      "\n",
      "       last gender                       street  ...      lat      long  \\\n",
      "0   Elliott      M            351 Darlene Green  ...  33.9659  -80.9355   \n",
      "1  Williams      F             3638 Marsh Union  ...  40.3207 -110.4360   \n",
      "2     Lopez      F         9333 Valentine Point  ...  40.6729  -73.5365   \n",
      "3  Williams      M  32941 Krystal Mill Apt. 552  ...  28.5697  -80.8191   \n",
      "4    Massey      M     5783 Evan Roads Apt. 465  ...  44.2529  -85.0170   \n",
      "\n",
      "   city_pop                     job         dob  \\\n",
      "0    333497     Mechanical engineer  1968-03-19   \n",
      "1       302  Sales professional, IT  1990-01-17   \n",
      "2     34496       Librarian, public  1970-10-21   \n",
      "3     54767            Set designer  1987-07-25   \n",
      "4      1126      Furniture designer  1955-07-06   \n",
      "\n",
      "                          trans_num   unix_time  merch_lat  merch_long  \\\n",
      "0  2da90c7d74bd46a0caf3777415b3ebd3  1371816865  33.986391  -81.200714   \n",
      "1  324cc204407e99f51b0d6ca0055005e7  1371816873  39.450498 -109.960431   \n",
      "2  c81755dbbbea9d5c77f094348a7579be  1371816893  40.495810  -74.196111   \n",
      "3  2159175b9efe66dc301f149d3d5abf8c  1371816915  28.812398  -80.883061   \n",
      "4  57ff021bd3f328f8738bb535c302a31b  1371816917  44.959148  -85.884734   \n",
      "\n",
      "   is_fraud  \n",
      "0         0  \n",
      "1         0  \n",
      "2         0  \n",
      "3         0  \n",
      "4         0  \n",
      "\n",
      "[5 rows x 23 columns]\n"
     ]
    }
   ],
   "source": [
    "import pandas as pd\n",
    "df = pd.read_csv(\"creditcard.csv\")\n",
    "print(df.head())\n"
   ]
  },
  {
   "cell_type": "code",
   "execution_count": null,
   "id": "4263797d-24aa-4315-a90d-38890b2a21c1",
   "metadata": {},
   "outputs": [
    {
     "name": "stdout",
     "output_type": "stream",
     "text": [
      "Unnamed: 0               0\n",
      "trans_date_trans_time    0\n",
      "cc_num                   0\n",
      "merchant                 0\n",
      "category                 0\n",
      "amt                      0\n",
      "first                    0\n",
      "last                     0\n",
      "gender                   0\n",
      "street                   0\n",
      "city                     0\n",
      "state                    0\n",
      "zip                      0\n",
      "lat                      0\n",
      "long                     0\n",
      "city_pop                 0\n",
      "job                      0\n",
      "dob                      0\n",
      "trans_num                0\n",
      "unix_time                0\n",
      "merch_lat                0\n",
      "merch_long               0\n",
      "is_fraud                 0\n",
      "dtype: int64\n",
      "<class 'pandas.core.frame.DataFrame'>\n",
      "RangeIndex: 555719 entries, 0 to 555718\n",
      "Data columns (total 23 columns):\n",
      " #   Column                 Non-Null Count   Dtype  \n",
      "---  ------                 --------------   -----  \n",
      " 0   Unnamed: 0             555719 non-null  int64  \n",
      " 1   trans_date_trans_time  555719 non-null  object \n",
      " 2   cc_num                 555719 non-null  int64  \n",
      " 3   merchant               555719 non-null  object \n",
      " 4   category               555719 non-null  object \n",
      " 5   amt                    555719 non-null  float64\n",
      " 6   first                  555719 non-null  object \n",
      " 7   last                   555719 non-null  object \n",
      " 8   gender                 555719 non-null  object \n",
      " 9   street                 555719 non-null  object \n",
      " 10  city                   555719 non-null  object \n",
      " 11  state                  555719 non-null  object \n",
      " 12  zip                    555719 non-null  int64  \n",
      " 13  lat                    555719 non-null  float64\n",
      " 14  long                   555719 non-null  float64\n",
      " 15  city_pop               555719 non-null  int64  \n",
      " 16  job                    555719 non-null  object \n",
      " 17  dob                    555719 non-null  object \n",
      " 18  trans_num              555719 non-null  object \n",
      " 19  unix_time              555719 non-null  int64  \n",
      " 20  merch_lat              555719 non-null  float64\n",
      " 21  merch_long             555719 non-null  float64\n",
      " 22  is_fraud               555719 non-null  int64  \n",
      "dtypes: float64(5), int64(6), object(12)\n",
      "memory usage: 97.5+ MB\n",
      "None\n",
      "is_fraud\n",
      "0    553574\n",
      "1      2145\n",
      "Name: count, dtype: int64\n"
     ]
    }
   ],
   "source": [
    "\n",
    "print(df.isnull().sum())\n",
    "print(df.info())\n",
    "print(df['is_fraud'].value_counts())\n"
   ]
  },
  {
   "cell_type": "code",
   "execution_count": null,
   "id": "ebda9e98-427e-485c-b16a-c2b698af8820",
   "metadata": {},
   "outputs": [
    {
     "name": "stdout",
     "output_type": "stream",
     "text": [
      "Numeric Columns: ['Unnamed: 0', 'cc_num', 'amt', 'zip', 'lat', 'long', 'city_pop', 'unix_time', 'merch_lat', 'merch_long', 'is_fraud']\n",
      "Categorical Columns: ['trans_date_trans_time', 'merchant', 'category', 'first', 'last', 'gender', 'street', 'city', 'state', 'job', 'dob', 'trans_num']\n"
     ]
    }
   ],
   "source": [
    "numeric_cols = df.select_dtypes(include=['int64', 'float64']).columns\n",
    "categorical_cols = df.select_dtypes(include=['object']).columns\n",
    "print(\"Numeric Columns:\", list(numeric_cols))\n",
    "print(\"Categorical Columns:\", list(categorical_cols))\n"
   ]
  },
  {
   "cell_type": "code",
   "execution_count": null,
   "id": "575a60ae-84bc-4825-8560-d15dbba7244a",
   "metadata": {},
   "outputs": [
    {
     "name": "stdout",
     "output_type": "stream",
     "text": [
      "Unnamed: 0               0\n",
      "trans_date_trans_time    0\n",
      "cc_num                   0\n",
      "merchant                 0\n",
      "category                 0\n",
      "amt                      0\n",
      "first                    0\n",
      "last                     0\n",
      "gender                   0\n",
      "street                   0\n",
      "city                     0\n",
      "state                    0\n",
      "zip                      0\n",
      "lat                      0\n",
      "long                     0\n",
      "city_pop                 0\n",
      "job                      0\n",
      "dob                      0\n",
      "trans_num                0\n",
      "unix_time                0\n",
      "merch_lat                0\n",
      "merch_long               0\n",
      "is_fraud                 0\n",
      "dtype: int64\n"
     ]
    }
   ],
   "source": [
    "df[numeric_cols] = df[numeric_cols].fillna(df[numeric_cols].median())\n",
    "for col in categorical_cols:\n",
    "    df[col] = df[col].fillna(df[col].mode()[0])\n",
    "print(df.isnull().sum())\n"
   ]
  },
  {
   "cell_type": "code",
   "execution_count": null,
   "id": "d67181c6-651f-4963-8eb5-f1e487fb71a3",
   "metadata": {},
   "outputs": [
    {
     "name": "stdout",
     "output_type": "stream",
     "text": [
      "Categorical encoding completed!\n"
     ]
    }
   ],
   "source": [
    "from sklearn.preprocessing import LabelEncoder\n",
    "label_enc = LabelEncoder()\n",
    "for col in categorical_cols:\n",
    "    df[col] = label_enc.fit_transform(df[col])\n",
    "print(\"Categorical encoding completed!\")\n"
   ]
  },
  {
   "cell_type": "code",
   "execution_count": 22,
   "id": "56bda7c2-7ea8-47d9-b09b-7a5d5a49868a",
   "metadata": {},
   "outputs": [
    {
     "name": "stdout",
     "output_type": "stream",
     "text": [
      "Index(['Unnamed: 0', 'trans_date_trans_time', 'cc_num', 'merchant', 'category',\n",
      "       'amt', 'first', 'last', 'gender', 'street', 'city', 'state', 'zip',\n",
      "       'lat', 'long', 'city_pop', 'job', 'dob', 'trans_num', 'unix_time',\n",
      "       'merch_lat', 'merch_long', 'is_fraud'],\n",
      "      dtype='object')\n"
     ]
    }
   ],
   "source": [
    "print(df.columns)\n"
   ]
  },
  {
   "cell_type": "code",
   "execution_count": null,
   "id": "5156421c-2e76-48e4-a6df-21ab183bea94",
   "metadata": {},
   "outputs": [
    {
     "name": "stdout",
     "output_type": "stream",
     "text": [
      "Datetime features extracted successfully!\n"
     ]
    }
   ],
   "source": [
    "df['trans_date_trans_time'] = pd.to_datetime(df['trans_date_trans_time'])\n",
    "df['hour'] = df['trans_date_trans_time'].dt.hour\n",
    "df['day_of_week'] = df['trans_date_trans_time'].dt.dayofweek\n",
    "df['month'] = df['trans_date_trans_time'].dt.month\n",
    "print(\"Datetime features extracted successfully!\")\n"
   ]
  },
  {
   "cell_type": "code",
   "execution_count": null,
   "id": "694b796e-167d-4cb5-a2fd-193abf1452e1",
   "metadata": {},
   "outputs": [
    {
     "name": "stdout",
     "output_type": "stream",
     "text": [
      "Dropped unnecessary columns successfully!\n",
      "Index(['trans_date_trans_time', 'merchant', 'category', 'amt', 'gender',\n",
      "       'state', 'zip', 'lat', 'long', 'city_pop', 'job', 'unix_time',\n",
      "       'merch_lat', 'merch_long', 'is_fraud', 'hour', 'day_of_week', 'month'],\n",
      "      dtype='object')\n"
     ]
    }
   ],
   "source": [
    "df.drop(columns=['Unnamed: 0', 'first', 'last', 'street', 'city', 'trans_num', 'cc_num', 'dob'], inplace=True)\n",
    "print(\"Dropped unnecessary columns successfully!\")\n",
    "print(df.columns)\n"
   ]
  },
  {
   "cell_type": "code",
   "execution_count": null,
   "id": "a8db749f-258d-4abc-a4d5-7454f83e9cd4",
   "metadata": {},
   "outputs": [
    {
     "name": "stdout",
     "output_type": "stream",
     "text": [
      "is_fraud\n",
      "0    553574\n",
      "1      2145\n",
      "Name: count, dtype: int64\n"
     ]
    }
   ],
   "source": [
    "print(df['is_fraud'].value_counts())\n"
   ]
  },
  {
   "cell_type": "code",
   "execution_count": null,
   "id": "8c72c3ff-516b-4108-beed-9b0a227e046d",
   "metadata": {},
   "outputs": [
    {
     "name": "stdout",
     "output_type": "stream",
     "text": [
      "trans_date_trans_time    datetime64[ns]\n",
      "merchant                          int64\n",
      "category                          int64\n",
      "amt                             float64\n",
      "gender                            int64\n",
      "state                             int64\n",
      "zip                               int64\n",
      "lat                             float64\n",
      "long                            float64\n",
      "city_pop                          int64\n",
      "job                               int64\n",
      "unix_time                         int64\n",
      "merch_lat                       float64\n",
      "merch_long                      float64\n",
      "is_fraud                          int64\n",
      "hour                              int32\n",
      "day_of_week                       int32\n",
      "month                             int32\n",
      "dtype: object\n"
     ]
    }
   ],
   "source": [
    "print(df.dtypes)\n"
   ]
  },
  {
   "cell_type": "code",
   "execution_count": null,
   "id": "99daed2a-c797-4720-b93f-2941de828fb6",
   "metadata": {},
   "outputs": [
    {
     "name": "stdout",
     "output_type": "stream",
     "text": [
      "Dataset balanced successfully! 🚀\n",
      "New class distribution: is_fraud\n",
      "0    553574\n",
      "1    276787\n",
      "Name: count, dtype: int64\n"
     ]
    }
   ],
   "source": [
    "import pandas as pd\n",
    "from imblearn.over_sampling import SMOTE\n",
    "df = df.drop(columns=['trans_date_trans_time'])\n",
    "X = df.drop(columns=['is_fraud'])\n",
    "y = df['is_fraud'] \n",
    "smote = SMOTE(sampling_strategy=0.5, random_state=42)  \n",
    "X_resampled, y_resampled = smote.fit_resample(X, y)\n",
    "print(\"Dataset balanced successfully! 🚀\")\n",
    "print(\"New class distribution:\", y_resampled.value_counts())\n"
   ]
  },
  {
   "cell_type": "code",
   "execution_count": null,
   "id": "490a054a-7898-44f3-af10-a2d8c142a262",
   "metadata": {},
   "outputs": [
    {
     "name": "stdout",
     "output_type": "stream",
     "text": [
      "Training Set Size: (664288, 16)\n",
      "Testing Set Size: (166073, 16)\n"
     ]
    }
   ],
   "source": [
    "from sklearn.model_selection import train_test_split\n",
    "X = X_resampled\n",
    "y = y_resampled\n",
    "X_train, X_test, y_train, y_test = train_test_split(X, y, test_size=0.2, random_state=42)\n",
    "print(f\"Training Set Size: {X_train.shape}\")\n",
    "print(f\"Testing Set Size: {X_test.shape}\")\n"
   ]
  },
  {
   "cell_type": "code",
   "execution_count": 29,
   "id": "3fd482b2-09c8-4f01-b972-1e706e5bc029",
   "metadata": {},
   "outputs": [],
   "source": [
    "from sklearn.linear_model import LogisticRegression  \n",
    "from sklearn.ensemble import RandomForestClassifier, AdaBoostClassifier, GradientBoostingClassifier, VotingClassifier  \n",
    "from sklearn.naive_bayes import GaussianNB\n",
    "from sklearn.metrics import accuracy_score, classification_report, confusion_matrix  \n"
   ]
  },
  {
   "cell_type": "code",
   "execution_count": null,
   "id": "86bd008d-7225-4c5a-a614-ff38acd0229f",
   "metadata": {},
   "outputs": [],
   "source": [
    "lr_model = LogisticRegression(max_iter=500)\n",
    "\n",
    "rf_model = RandomForestClassifier(n_estimators=100, random_state=42)\n",
    "\n",
    "adaboost_model = AdaBoostClassifier(n_estimators=100, random_state=42)\n",
    "\n",
    "gb_model = GradientBoostingClassifier(n_estimators=100, learning_rate=0.1, random_state=42)\n",
    "\n",
    "nb_model = GaussianNB()\n"
   ]
  },
  {
   "cell_type": "code",
   "execution_count": null,
   "id": "2b3dc1ed-0bb8-48fd-b03f-c8ae9e8ba596",
   "metadata": {},
   "outputs": [
    {
     "name": "stdout",
     "output_type": "stream",
     "text": [
      "All models trained successfully! ✅\n"
     ]
    }
   ],
   "source": [
    "lr_model.fit(X_train, y_train)\n",
    "rf_model.fit(X_train, y_train)\n",
    "adaboost_model.fit(X_train, y_train)\n",
    "gb_model.fit(X_train, y_train)\n",
    "nb_model.fit(X_train, y_train)\n",
    "print(\"All models trained successfully! ✅\")\n"
   ]
  },
  {
   "cell_type": "code",
   "execution_count": null,
   "id": "55fcc046-baeb-48b3-aac2-cd62c6510bfb",
   "metadata": {},
   "outputs": [
    {
     "name": "stdout",
     "output_type": "stream",
     "text": [
      "Voting classifier trained successfully! 🚀\n"
     ]
    }
   ],
   "source": [
    "voting_model = VotingClassifier(\n",
    "    estimators=[\n",
    "        ('lr', lr_model),\n",
    "        ('rf', rf_model),\n",
    "        ('adaboost', adaboost_model),\n",
    "        ('gb', gb_model),\n",
    "        ('nb', nb_model)\n",
    "    ],\n",
    "    voting='hard' \n",
    ")\n",
    "voting_model.fit(X_train, y_train)\n",
    "print(\"Voting classifier trained successfully! 🚀\")\n"
   ]
  },
  {
   "cell_type": "code",
   "execution_count": null,
   "id": "425c3ae4-1aae-4b6b-a29f-e784fd112802",
   "metadata": {},
   "outputs": [
    {
     "name": "stdout",
     "output_type": "stream",
     "text": [
      "Voting Classifier Accuracy: 0.9140\n",
      "Classification Report:\n",
      "               precision    recall  f1-score   support\n",
      "\n",
      "           0       0.90      0.98      0.94    110946\n",
      "           1       0.95      0.78      0.86     55127\n",
      "\n",
      "    accuracy                           0.91    166073\n",
      "   macro avg       0.93      0.88      0.90    166073\n",
      "weighted avg       0.92      0.91      0.91    166073\n",
      "\n",
      "Confusion Matrix:\n",
      " [[108657   2289]\n",
      " [ 12000  43127]]\n"
     ]
    }
   ],
   "source": [
    "y_pred = voting_model.predict(X_test)\n",
    "accuracy = accuracy_score(y_test, y_pred)\n",
    "print(f\"Voting Classifier Accuracy: {accuracy:.4f}\")\n",
    "print(\"Classification Report:\\n\", classification_report(y_test, y_pred))\n",
    "print(\"Confusion Matrix:\\n\", confusion_matrix(y_test, y_pred))\n"
   ]
  },
  {
   "cell_type": "code",
   "execution_count": null,
   "id": "e5774a8c-0ebc-4510-b414-211e9d4ad3dc",
   "metadata": {},
   "outputs": [
    {
     "name": "stdout",
     "output_type": "stream",
     "text": [
      "Trained model saved successfully! 🎯\n"
     ]
    }
   ],
   "source": [
    "import pickle\n",
    "with open(\"voting_model.pkl\", \"wb\") as model_file:\n",
    "    pickle.dump(voting_model, model_file)\n",
    "\n",
    "print(\"Trained model saved successfully! 🎯\")\n"
   ]
  },
  {
   "cell_type": "code",
   "execution_count": null,
   "id": "e4df2431-91b9-49ef-affd-9cc8209db0d9",
   "metadata": {},
   "outputs": [
    {
     "name": "stdout",
     "output_type": "stream",
     "text": [
      "✅ New Transaction Ready for Prediction!\n"
     ]
    }
   ],
   "source": [
    "import pandas as pd\n",
    "new_transaction = pd.DataFrame([{\n",
    "    'merchant': 10, \n",
    "    'category': 3,  \n",
    "    'amt': 120.50,\n",
    "    'gender': 1,    \n",
    "    'state': 5,     \n",
    "    'zip': 12345,\n",
    "    'lat': 40.7128,\n",
    "    'long': -74.0060,\n",
    "    'city_pop': 8500000,\n",
    "    'job': 7,       \n",
    "    'unix_time': 1.7e9,  \n",
    "    'merch_lat': 40.7306,\n",
    "    'merch_long': -73.9352,\n",
    "    'hour': 14,\n",
    "    'day_of_week': 3,\n",
    "    'month': 6\n",
    "}])\n",
    "from sklearn.preprocessing import StandardScaler\n",
    "scaler = StandardScaler()\n",
    "new_transaction[['amt', 'lat', 'long', 'city_pop', 'unix_time', 'merch_lat', 'merch_long', 'hour', 'day_of_week', 'month']] = scaler.fit_transform(\n",
    "    new_transaction[['amt', 'lat', 'long', 'city_pop', 'unix_time', 'merch_lat', 'merch_long', 'hour', 'day_of_week', 'month']])\n",
    "\n",
    "print(\"✅ New Transaction Ready for Prediction!\")\n"
   ]
  },
  {
   "cell_type": "code",
   "execution_count": null,
   "id": "da394d14-587c-490f-9b9d-de95680921fa",
   "metadata": {},
   "outputs": [
    {
     "name": "stdout",
     "output_type": "stream",
     "text": [
      "✅ Model Loaded Successfully!\n"
     ]
    }
   ],
   "source": [
    "import numpy as np\n",
    "import pandas as pd\n",
    "import pickle\n",
    "with open(\"voting_model.pkl\", \"rb\") as file:\n",
    "    voting_model = pickle.load(file)\n",
    "\n",
    "print(\"✅ Model Loaded Successfully!\")\n"
   ]
  },
  {
   "cell_type": "code",
   "execution_count": null,
   "id": "035d5b59-9616-4fe3-bb80-7be6044a4638",
   "metadata": {},
   "outputs": [
    {
     "name": "stdout",
     "output_type": "stream",
     "text": [
      "✅ Transaction is Legitimate.\n"
     ]
    }
   ],
   "source": [
    "prediction = voting_model.predict(new_transaction)\n",
    "if prediction[0] == 1:\n",
    "    print(\"🚨 ALERT: Fraudulent Transaction Detected! 🚨\")\n",
    "else:\n",
    "    print(\"✅ Transaction is Legitimate.\")\n"
   ]
  },
  {
   "cell_type": "code",
   "execution_count": null,
   "id": "87489e54-8e34-4540-837b-b2ffd1d57a3a",
   "metadata": {},
   "outputs": [
    {
     "name": "stdout",
     "output_type": "stream",
     "text": [
      "✅ Scaler Saved!\n"
     ]
    }
   ],
   "source": [
    "import pickle\n",
    "with open(\"scaler.pkl\", \"wb\") as scaler_file:\n",
    "    pickle.dump(scaler, scaler_file)\n",
    "\n",
    "print(\"✅ Scaler Saved!\")\n"
   ]
  },
  {
   "cell_type": "code",
   "execution_count": 39,
   "id": "d4dd0d62-c88d-4bc0-9cce-13acb0029004",
   "metadata": {},
   "outputs": [
    {
     "name": "stdout",
     "output_type": "stream",
     "text": [
      "✅ Model Saved!\n"
     ]
    }
   ],
   "source": [
    "with open(\"voting_model.pkl\", \"wb\") as model_file:\n",
    "    pickle.dump(voting_model, model_file)\n",
    "\n",
    "print(\"✅ Model Saved!\")\n"
   ]
  },
  {
   "cell_type": "code",
   "execution_count": null,
   "id": "4d3043da-61d0-4c5f-a15b-f61150fc5a5f",
   "metadata": {},
   "outputs": [
    {
     "name": "stdout",
     "output_type": "stream",
     "text": [
      "✅ Model and Scaler Loaded Successfully!\n"
     ]
    }
   ],
   "source": [
    "with open(\"voting_model.pkl\", \"rb\") as file:\n",
    "    voting_model = \n",
    "    pickle.load(file)\n",
    "with open(\"scaler.pkl\", \"rb\") as scaler_file:\n",
    "    scaler = pickle.load(scaler_file)\n",
    "\n",
    "print(\"✅ Model and Scaler Loaded Successfully!\")\n"
   ]
  },
  {
   "cell_type": "code",
   "execution_count": 41,
   "id": "d2815773-fbef-4b4d-bed0-55d119caf52b",
   "metadata": {},
   "outputs": [
    {
     "name": "stdout",
     "output_type": "stream",
     "text": [
      "✅ New Transactions Ready for Prediction!\n"
     ]
    }
   ],
   "source": [
    "import pandas as pd\n",
    "import numpy as np\n",
    "\n",
    "# Generate multiple test transactions (modify as needed)\n",
    "new_transactions = pd.DataFrame([\n",
    "    {\n",
    "        'merchant': np.random.randint(1, 20),\n",
    "        'category': np.random.randint(1, 10),\n",
    "        'amt': round(np.random.uniform(1, 5000), 2),\n",
    "        'gender': np.random.choice([0, 1]),\n",
    "        'state': np.random.randint(1, 50),\n",
    "        'zip': np.random.randint(10000, 99999),\n",
    "        'lat': round(np.random.uniform(-90, 90), 6),\n",
    "        'long': round(np.random.uniform(-180, 180), 6),\n",
    "        'city_pop': np.random.randint(1000, 10000000),\n",
    "        'job': np.random.randint(1, 20),\n",
    "        'unix_time': np.random.randint(1.5e9, 1.8e9),\n",
    "        'merch_lat': round(np.random.uniform(-90, 90), 6),\n",
    "        'merch_long': round(np.random.uniform(-180, 180), 6),\n",
    "        'hour': np.random.randint(0, 24),\n",
    "        'day_of_week': np.random.randint(0, 7),\n",
    "        'month': np.random.randint(1, 12)\n",
    "    }\n",
    "    for _ in range(10)  # Generate 10 random transactions\n",
    "])\n",
    "\n",
    "# Scale the numerical features using the preloaded scaler\n",
    "numerical_features = ['amt', 'lat', 'long', 'city_pop', 'unix_time', 'merch_lat', 'merch_long', 'hour', 'day_of_week', 'month']\n",
    "new_transactions[numerical_features] = scaler.transform(new_transactions[numerical_features])\n",
    "\n",
    "print(\"✅ New Transactions Ready for Prediction!\")\n"
   ]
  },
  {
   "cell_type": "code",
   "execution_count": 42,
   "id": "dec5212b-ef31-4dcb-aeea-9bb5b9ecd1e2",
   "metadata": {},
   "outputs": [
    {
     "name": "stdout",
     "output_type": "stream",
     "text": [
      "       amt  category  fraud_prediction\n",
      "0  3014.40         1                 0\n",
      "1  3644.16         6                 0\n",
      "2  3044.82         2                 0\n",
      "3  1755.35         5                 0\n",
      "4  3505.08         5                 0\n",
      "5  1536.49         8                 0\n",
      "6  3561.55         1                 0\n",
      "7   -84.15         2                 0\n",
      "8  1420.16         3                 1\n",
      "9    57.13         9                 0\n",
      "🚨 Fraudulent Transactions Detected: 1\n",
      "✅ Legitimate Transactions: 9\n"
     ]
    }
   ],
   "source": [
    "# Predict fraud or not\n",
    "predictions = voting_model.predict(new_transactions)\n",
    "\n",
    "# Add predictions to the DataFrame\n",
    "new_transactions['fraud_prediction'] = predictions\n",
    "\n",
    "# Display results\n",
    "print(new_transactions[['amt', 'category', 'fraud_prediction']])\n",
    "\n",
    "# Count fraud vs non-fraud cases\n",
    "fraud_count = (new_transactions['fraud_prediction'] == 1).sum()\n",
    "legit_count = (new_transactions['fraud_prediction'] == 0).sum()\n",
    "\n",
    "print(f\"🚨 Fraudulent Transactions Detected: {fraud_count}\")\n",
    "print(f\"✅ Legitimate Transactions: {legit_count}\")\n"
   ]
  },
  {
   "cell_type": "code",
   "execution_count": null,
   "id": "1a4668a4-8a5a-417a-96e5-05a10f69f67a",
   "metadata": {},
   "outputs": [],
   "source": [
    "real_transactions = X_test.sample(10, random_state=42)  # Random selection\n",
    "real_labels = y_test.loc[real_transactions.index]  # Get actual fraud labels\n"
   ]
  },
  {
   "cell_type": "code",
   "execution_count": null,
   "id": "83e62e2c-42f2-40fe-b82f-f6239c460574",
   "metadata": {},
   "outputs": [
    {
     "name": "stdout",
     "output_type": "stream",
     "text": [
      "               amt  category  predicted_fraud  actual_fraud\n",
      "221390   11.120000         1                0             0\n",
      "563007  545.095319         6                1             1\n",
      "807610  114.101080         4                0             1\n",
      "203865    3.940000        12                0             0\n",
      "374963   27.960000        10                0             0\n",
      "219961    6.880000        11                0             0\n",
      "496519    2.650000         8                0             0\n",
      "93985    74.200000         2                0             0\n",
      "757062  330.312604         4                1             1\n",
      "457034   78.710000         5                0             0\n"
     ]
    }
   ],
   "source": [
    "real_predictions = voting_model.predict(real_transactions)\n",
    "real_transactions['predicted_fraud'] = real_predictions\n",
    "real_transactions['actual_fraud'] = real_labels\n",
    "print(real_transactions[['amt', 'category', 'predicted_fraud', 'actual_fraud']])\n"
   ]
  },
  {
   "cell_type": "code",
   "execution_count": null,
   "id": "7dd88144-0480-4fcf-b335-4a68114f6457",
   "metadata": {},
   "outputs": [
    {
     "name": "stdout",
     "output_type": "stream",
     "text": [
      "✅ Model Evaluation on Real Transactions\n",
      "Accuracy: 0.9000\n",
      "Precision: 1.0000\n",
      "Recall: 0.6667\n",
      "F1 Score: 0.8000\n",
      "\n",
      "Confusion Matrix:\n",
      "[[7 0]\n",
      " [1 2]]\n"
     ]
    }
   ],
   "source": [
    "from sklearn.metrics import accuracy_score, precision_score, recall_score, f1_score, confusion_matrix\n",
    "accuracy = accuracy_score(real_labels, real_predictions)\n",
    "precision = precision_score(real_labels, real_predictions)\n",
    "recall = recall_score(real_labels, real_predictions)\n",
    "f1 = f1_score(real_labels, real_predictions)\n",
    "\n",
    "print(f\"✅ Model Evaluation on Real Transactions\")\n",
    "print(f\"Accuracy: {accuracy:.4f}\")\n",
    "print(f\"Precision: {precision:.4f}\")\n",
    "print(f\"Recall: {recall:.4f}\")\n",
    "print(f\"F1 Score: {f1:.4f}\")\n",
    "print(\"\\nConfusion Matrix:\")\n",
    "print(confusion_matrix(real_labels, real_predictions))\n"
   ]
  },
  {
   "cell_type": "code",
   "execution_count": 50,
   "id": "e6568ef9-11e6-4f37-a86a-e2e6edf50c57",
   "metadata": {},
   "outputs": [],
   "source": [
    "import pandas as pd\n",
    "\n",
    "# Select 10 random real transactions from the test set\n",
    "real_transactions = X_test.sample(10, random_state=42)  \n",
    "\n",
    "# Get actual fraud labels\n",
    "real_labels = y_test.loc[real_transactions.index]  \n"
   ]
  },
  {
   "cell_type": "code",
   "execution_count": 51,
   "id": "6726a2a8-46d4-4aff-b0b6-895a4a854e53",
   "metadata": {},
   "outputs": [
    {
     "name": "stdout",
     "output_type": "stream",
     "text": [
      "               amt  category  predicted_fraud  actual_fraud\n",
      "221390   11.120000         1                0             0\n",
      "563007  545.095319         6                1             1\n",
      "807610  114.101080         4                0             1\n",
      "203865    3.940000        12                0             0\n",
      "374963   27.960000        10                0             0\n",
      "219961    6.880000        11                0             0\n",
      "496519    2.650000         8                0             0\n",
      "93985    74.200000         2                0             0\n",
      "757062  330.312604         4                1             1\n",
      "457034   78.710000         5                0             0\n"
     ]
    }
   ],
   "source": [
    "# Make predictions\n",
    "real_predictions = voting_model.predict(real_transactions)\n",
    "\n",
    "# Add predictions to DataFrame\n",
    "real_transactions['predicted_fraud'] = real_predictions\n",
    "real_transactions['actual_fraud'] = real_labels\n",
    "\n",
    "# Display results\n",
    "print(real_transactions[['amt', 'category', 'predicted_fraud', 'actual_fraud']])\n"
   ]
  },
  {
   "cell_type": "code",
   "execution_count": 52,
   "id": "56eca2ba-0834-43eb-b329-a7e4185d3eee",
   "metadata": {},
   "outputs": [
    {
     "name": "stdout",
     "output_type": "stream",
     "text": [
      "✅ Model Evaluation on Real Transactions\n",
      "Accuracy: 0.9000\n",
      "Precision: 1.0000\n",
      "Recall: 0.6667\n",
      "F1 Score: 0.8000\n",
      "\n",
      "Confusion Matrix:\n",
      "[[7 0]\n",
      " [1 2]]\n"
     ]
    }
   ],
   "source": [
    "from sklearn.metrics import accuracy_score, precision_score, recall_score, f1_score, confusion_matrix\n",
    "\n",
    "# Evaluate model performance\n",
    "accuracy = accuracy_score(real_labels, real_predictions)\n",
    "precision = precision_score(real_labels, real_predictions)\n",
    "recall = recall_score(real_labels, real_predictions)\n",
    "f1 = f1_score(real_labels, real_predictions)\n",
    "\n",
    "print(f\"✅ Model Evaluation on Real Transactions\")\n",
    "print(f\"Accuracy: {accuracy:.4f}\")\n",
    "print(f\"Precision: {precision:.4f}\")\n",
    "print(f\"Recall: {recall:.4f}\")\n",
    "print(f\"F1 Score: {f1:.4f}\")\n",
    "\n",
    "# Display confusion matrix\n",
    "print(\"\\nConfusion Matrix:\")\n",
    "print(confusion_matrix(real_labels, real_predictions))\n"
   ]
  },
  {
   "cell_type": "code",
   "execution_count": 53,
   "id": "5d33af3e-6760-4014-bec8-3a66eece81c3",
   "metadata": {},
   "outputs": [
    {
     "name": "stdout",
     "output_type": "stream",
     "text": [
      "🔍 **Testing on New Transactions:**\n",
      "               amt  category  predicted_fraud  actual_fraud\n",
      "548118   58.630000        10                0             0\n",
      "673717    8.471464         2                0             1\n",
      "673457  818.010824        10                1             1\n",
      "515193   50.730000         6                0             0\n",
      "826881  514.818899        11                1             1\n",
      "373923   61.500000         2                0             0\n",
      "132131   66.180000         2                0             0\n",
      "428518   37.610000         6                0             0\n",
      "440374    4.850000        13                0             0\n",
      "474573  180.830000         4                0             0\n",
      "\n",
      "✅ **New Model Evaluation on Real Transactions:**\n",
      "Accuracy: 0.9000\n",
      "Precision: 1.0000\n",
      "Recall: 0.6667\n",
      "F1 Score: 0.8000\n",
      "\n",
      "Confusion Matrix:\n",
      "[[7 0]\n",
      " [1 2]]\n"
     ]
    }
   ],
   "source": [
    "import numpy as np\n",
    "import pandas as pd\n",
    "from sklearn.metrics import accuracy_score, precision_score, recall_score, f1_score, confusion_matrix\n",
    "\n",
    "# ✅ Step 1: Select 10 new test transactions (excluding previous ones)\n",
    "new_real_transactions = X_test.sample(10, random_state=99)  # Change random_state to get different transactions\n",
    "new_real_labels = y_test.loc[new_real_transactions.index]  # Get actual fraud labels\n",
    "\n",
    "# ✅ Step 2: Make predictions on new transactions\n",
    "new_predictions = voting_model.predict(new_real_transactions)\n",
    "\n",
    "# ✅ Step 3: Add predictions to DataFrame\n",
    "new_real_transactions['predicted_fraud'] = new_predictions\n",
    "new_real_transactions['actual_fraud'] = new_real_labels\n",
    "\n",
    "# ✅ Step 4: Display results\n",
    "print(\"🔍 **Testing on New Transactions:**\")\n",
    "print(new_real_transactions[['amt', 'category', 'predicted_fraud', 'actual_fraud']])\n",
    "\n",
    "# ✅ Step 5: Evaluate Model Performance on New Transactions\n",
    "accuracy = accuracy_score(new_real_labels, new_predictions)\n",
    "precision = precision_score(new_real_labels, new_predictions)\n",
    "recall = recall_score(new_real_labels, new_predictions)\n",
    "f1 = f1_score(new_real_labels, new_predictions)\n",
    "\n",
    "print(\"\\n✅ **New Model Evaluation on Real Transactions:**\")\n",
    "print(f\"Accuracy: {accuracy:.4f}\")\n",
    "print(f\"Precision: {precision:.4f}\")\n",
    "print(f\"Recall: {recall:.4f}\")\n",
    "print(f\"F1 Score: {f1:.4f}\")\n",
    "\n",
    "# ✅ Step 6: Display Confusion Matrix\n",
    "print(\"\\nConfusion Matrix:\")\n",
    "print(confusion_matrix(new_real_labels, new_predictions))\n"
   ]
  },
  {
   "cell_type": "code",
   "execution_count": null,
   "id": "75dcffee-ce6c-4e39-af80-cda91c4bcaba",
   "metadata": {},
   "outputs": [],
   "source": []
  }
 ],
 "metadata": {
  "kernelspec": {
   "display_name": "Python 3 (ipykernel)",
   "language": "python",
   "name": "python3"
  },
  "language_info": {
   "codemirror_mode": {
    "name": "ipython",
    "version": 3
   },
   "file_extension": ".py",
   "mimetype": "text/x-python",
   "name": "python",
   "nbconvert_exporter": "python",
   "pygments_lexer": "ipython3",
   "version": "3.13.2"
  }
 },
 "nbformat": 4,
 "nbformat_minor": 5
}
